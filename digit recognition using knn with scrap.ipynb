{
 "cells": [
  {
   "cell_type": "code",
   "execution_count": 19,
   "metadata": {},
   "outputs": [],
   "source": [
    "from sklearn.datasets import load_digits\n",
    "digits = load_digits()"
   ]
  },
  {
   "cell_type": "code",
   "execution_count": 20,
   "metadata": {},
   "outputs": [
    {
     "name": "stdout",
     "output_type": "stream",
     "text": [
      "Shape of our feature, ie. our 8*8 pixels forming an image of digit (1797L, 64L)\n",
      "Shape of our Label, ie, the target data : (1797L,)\n"
     ]
    }
   ],
   "source": [
    "\n",
    "print(\"Shape of our feature, ie. our 8*8 pixels forming an image of digit \" + str(digits.data.shape) )\n",
    "\n",
    "print(\"Shape of our Label, ie, the target data : \" + str( digits.target.shape) )"
   ]
  },
  {
   "cell_type": "code",
   "execution_count": 21,
   "metadata": {},
   "outputs": [],
   "source": [
    "import numpy as np \n",
    "import matplotlib.pyplot as plt"
   ]
  },
  {
   "cell_type": "code",
   "execution_count": 22,
   "metadata": {},
   "outputs": [
    {
     "data": {
      "image/png": "[encoded data removed]",
      "text/plain": [
       "<Figure size 1440x288 with 5 Axes>"
      ]
     },
     "metadata": {},
     "output_type": "display_data"
    }
   ],
   "source": [
    "plt.figure(figsize=(20,4)) # showing images of digits in a plot alaong an indexed sabplot\n",
    "\n",
    "\n",
    "# we use inumerate so that we know how many iteration our for loop as passed\n",
    "#and we use zip to make together two list into one, value by value\n",
    "for index, (image, label) in enumerate(zip(digits.data[0:5], digits.target[0:5])):\n",
    "    plt.subplot(1, 5, index + 1)\n",
    "    plt.imshow(np.reshape(image, (8,8)), cmap=plt.cm.gray)\n",
    "    plt.title('Training: %i\\n' % label, fontsize = 20)"
   ]
  },
  {
   "cell_type": "code",
   "execution_count": 23,
   "metadata": {},
   "outputs": [],
   "source": [
    "from sklearn.model_selection import train_test_split\n",
    "x_train, x_test, y_train, y_test = train_test_split(digits.data, digits.target, test_size=0.25, random_state=0)"
   ]
  },
  {
   "cell_type": "markdown",
   "metadata": {},
   "source": [
    "# our work start from here"
   ]
  },
  {
   "cell_type": "code",
   "execution_count": 6,
   "metadata": {},
   "outputs": [
    {
     "data": {
      "text/plain": [
       "450"
      ]
     },
     "execution_count": 6,
     "metadata": {},
     "output_type": "execute_result"
    }
   ],
   "source": [
    "len (x_test)\n"
   ]
  },
  {
   "cell_type": "code",
   "execution_count": 7,
   "metadata": {},
   "outputs": [
    {
     "data": {
      "text/plain": [
       "<matplotlib.image.AxesImage at 0x11332fd0>"
      ]
     },
     "execution_count": 7,
     "metadata": {},
     "output_type": "execute_result"
    },
    {
     "data": {
      "image/png": "[encoded data removed]",
      "text/plain": [
       "<Figure size 432x288 with 1 Axes>"
      ]
     },
     "metadata": {},
     "output_type": "display_data"
    }
   ],
   "source": [
    "plt.title('Training: %i\\n' % y_test[87], fontsize = 20)\n",
    "plt.imshow(np.reshape(x_test[87], (8,8)), cmap=plt.cm.gray)"
   ]
  },
  {
   "cell_type": "code",
   "execution_count": 8,
   "metadata": {},
   "outputs": [
    {
     "name": "stdout",
     "output_type": "stream",
     "text": [
      "[ 0.  0.  1. 14. 13.  4.  0.  0.  0.  3. 15. 12. 11. 15.  0.  0.  0.  8.\n",
      " 11.  1.  7. 13.  0.  0.  0.  1. 13. 14. 16.  1.  0.  0.  0.  0.  0. 14.\n",
      " 13. 14.  2.  0.  0.  0.  2. 12.  0.  9.  8.  0.  0.  0.  3. 13.  4. 12.\n",
      "  6.  0.  0.  0.  0.  9. 14. 13.  1.  0.]\n",
      "8\n"
     ]
    },
    {
     "data": {
      "image/png": "[encoded data removed]",
      "text/plain": [
       "<Figure size 432x288 with 1 Axes>"
      ]
     },
     "metadata": {},
     "output_type": "display_data"
    }
   ],
   "source": [
    "print x_train[1]\n",
    "plt.title('Training: %i\\n' % y_train[1], fontsize = 20)\n",
    "plt.imshow(np.reshape(x_train[1], (8,8)), cmap=plt.cm.gray)\n",
    "print y_train[1]"
   ]
  },
  {
   "cell_type": "code",
   "execution_count": 9,
   "metadata": {},
   "outputs": [
    {
     "name": "stdout",
     "output_type": "stream",
     "text": [
      "predicted 8\n",
      "actual 8\n"
     ]
    }
   ],
   "source": [
    "#print (sum(  (x_train[1]-x_train[2])**2  ))**0.5\n",
    "#print x_train[1]-x_test[1]\n",
    "#print (x_train[1]-x_test[1])**2\n",
    "#sum([2,3])\n",
    "d=[]\n",
    "for i in x_train:\n",
    "    d+=[((sum(  (i-x_test[1])**2  ))**0.5)]\n",
    "#print d\n",
    "\n",
    "#print min (d)\n",
    "#print d.index(min(d))\n",
    "print \"predicted\",y_train[d.index(min(d))]\n",
    "print \"actual\",y_test[1]"
   ]
  },
  {
   "cell_type": "code",
   "execution_count": 10,
   "metadata": {},
   "outputs": [
    {
     "name": "stdout",
     "output_type": "stream",
     "text": [
      "predicted 6\n",
      "actual 6\n"
     ]
    }
   ],
   "source": [
    "def result(a):\n",
    "    d=[]\n",
    "    for i in x_train:\n",
    "        d+=[((sum(  (i-x_test[a])**2  ))**0.5)]\n",
    "        #print d\n",
    "\n",
    "    #print min (d)\n",
    "    #print d.index(min(d))\n",
    "    print \"predicted\",y_train[d.index(min(d))]\n",
    "    print \"actual\",y_test[a]\n",
    "    \n",
    "result(3)"
   ]
  },
  {
   "cell_type": "code",
   "execution_count": 13,
   "metadata": {},
   "outputs": [
    {
     "name": "stdout",
     "output_type": "stream",
     "text": [
      "450\n",
      "446\n",
      "accuracy 99.1111111111\n"
     ]
    }
   ],
   "source": [
    "def result(a):\n",
    "    d=[]\n",
    "    for i in x_train:\n",
    "        d+=[((sum(  (i-x_test[a])**2  ))**0.5)]\n",
    "        \n",
    "        \n",
    "    predicted =y_train[d.index(min(d))]\n",
    "    actual=y_test[a]\n",
    "    \n",
    "    return(predicted,actual)\n",
    "\n",
    "print len(x_test)    \n",
    "\n",
    "count =0\n",
    "for i in range(len(x_test)):\n",
    "    p,a=result(i)\n",
    "    #print p,a\n",
    "    if (p==a):\n",
    "        count+=1\n",
    "print count\n",
    "print \"accuracy\",(float(count)/len(x_test)*100 )"
   ]
  },
  {
   "cell_type": "code",
   "execution_count": 12,
   "metadata": {},
   "outputs": [
    {
     "data": {
      "text/plain": [
       "0.9911111111111112"
      ]
     },
     "execution_count": 12,
     "metadata": {},
     "output_type": "execute_result"
    }
   ],
   "source": [
    "float(446.0/450)\n"
   ]
  },
  {
   "cell_type": "code",
   "execution_count": null,
   "metadata": {},
   "outputs": [],
   "source": []
  },
  {
   "cell_type": "code",
   "execution_count": null,
   "metadata": {},
   "outputs": [],
   "source": []
  }
 ],
 "metadata": {
  "kernelspec": {
   "display_name": "Python 2",
   "language": "python",
   "name": "python2"
  },
  "language_info": {
   "codemirror_mode": {
    "name": "ipython",
    "version": 2
   },
   "file_extension": ".py",
   "mimetype": "text/x-python",
   "name": "python",
   "nbconvert_exporter": "python",
   "pygments_lexer": "ipython2",
   "version": "2.7.14"
  }
 },
 "nbformat": 4,
 "nbformat_minor": 2
}
