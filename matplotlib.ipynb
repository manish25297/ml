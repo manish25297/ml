{
 "cells": [
  {
   "cell_type": "code",
   "execution_count": 25,
   "metadata": {},
   "outputs": [
    {
     "data": {
      "text/plain": [
       "<Figure size 432x288 with 0 Axes>"
      ]
     },
     "metadata": {},
     "output_type": "display_data"
    }
   ],
   "source": [
    "import numpy as np\n",
    "import matplotlib.pyplot as plt\n",
    "m=plt.figure(\"my first figure\")\n"
   ]
  },
  {
   "cell_type": "code",
   "execution_count": 37,
   "metadata": {},
   "outputs": [],
   "source": [
    "\n",
    "#subplot_1=m.subplots(2,3)\n",
    "subplot_6=m.subplots(9,3)\n"
   ]
  },
  {
   "cell_type": "code",
   "execution_count": 57,
   "metadata": {},
   "outputs": [
    {
     "data": {
      "image/png": "[encoded data removed]",
      "text/plain": [
       "<Figure size 432x288 with 1 Axes>"
      ]
     },
     "metadata": {},
     "output_type": "display_data"
    }
   ],
   "source": [
    "plt.plot(np.random.rand(50).cumsum(),'r--')  #  'r' for red color and '--' for dash try 'o' in place of '--'\n",
    "plt.axis([0,55,0,30])\n",
    "plt.xlabel('year')\n",
    "plt.ylabel('population')\n",
    "plt.title('china')\n",
    "plt.grid(True)\n",
    "plt.show()"
   ]
  },
  {
   "cell_type": "markdown",
   "metadata": {},
   "source": [
    "# note :- \n",
    "availabe colors\n",
    "# code         color \n",
    " 'k'                 black \n",
    " 'b'                 blue\n",
    " 'c'                 cyan\n",
    " 'g'                 green\n",
    " 'm'                 magneta\n",
    " 'r'                 red \n",
    " 'w'                 white\n",
    " 'y'                 yellow"
   ]
  },
  {
   "cell_type": "code",
   "execution_count": 26,
   "metadata": {},
   "outputs": [
    {
     "data": {
      "text/plain": [
       "u\"\\n        Add a set of subplots to this figure.\\n\\n        Parameters\\n        ----------\\n        nrows, ncols : int, default: 1\\n            Number of rows/cols of the subplot grid.\\n\\n        sharex, sharey : bool or {'none', 'all', 'row', 'col'}, default: False\\n            Controls sharing of properties among x (`sharex`) or y (`sharey`)\\n            axes:\\n\\n                - True or 'all': x- or y-axis will be shared among all\\n                  subplots.\\n                - False or 'none': each subplot x- or y-axis will be\\n                  independent.\\n                - 'row': each subplot row will share an x- or y-axis.\\n                - 'col': each subplot column will share an x- or y-axis.\\n\\n            When subplots have a shared x-axis along a column, only the x tick\\n            labels of the bottom subplot are visible.  Similarly, when\\n            subplots have a shared y-axis along a row, only the y tick labels\\n            of the first column subplot are visible.\\n\\n        squeeze : bool, default: True\\n            - If True, extra dimensions are squeezed out from the returned\\n              axis object:\\n\\n                - if only one subplot is constructed (nrows=ncols=1), the\\n                  resulting single Axes object is returned as a scalar.\\n                - for Nx1 or 1xN subplots, the returned object is a 1D numpy\\n                  object array of Axes objects are returned as numpy 1D\\n                  arrays.\\n                - for NxM, subplots with N>1 and M>1 are returned as a 2D\\n                  arrays.\\n\\n            - If False, no squeezing at all is done: the returned Axes object\\n              is always a 2D array containing Axes instances, even if it ends\\n              up being 1x1.\\n\\n        subplot_kw : dict, default: {}\\n            Dict with keywords passed to the\\n            :meth:`~matplotlib.figure.Figure.add_subplot` call used to create\\n            each subplots.\\n\\n        gridspec_kw : dict, default: {}\\n            Dict with keywords passed to the\\n            :class:`~matplotlib.gridspec.GridSpec` constructor used to create\\n            the grid the subplots are placed on.\\n\\n        Returns\\n        -------\\n        ax : single Axes object or array of Axes objects\\n            The added axes.  The dimensions of the resulting array can be\\n            controlled with the squeeze keyword, see above.\\n\\n        See Also\\n        --------\\n        pyplot.subplots : pyplot API; docstring includes examples.\\n        \""
      ]
     },
     "execution_count": 26,
     "metadata": {},
     "output_type": "execute_result"
    }
   ],
   "source": [
    "dir(m)\n",
    "m.subplots.__doc__"
   ]
  },
  {
   "cell_type": "code",
   "execution_count": 39,
   "metadata": {},
   "outputs": [
    {
     "data": {
      "text/plain": [
       "'\\n    Return the cumulative sum of the elements along a given axis.\\n\\n    Parameters\\n    ----------\\n    a : array_like\\n        Input array.\\n    axis : int, optional\\n        Axis along which the cumulative sum is computed. The default\\n        (None) is to compute the cumsum over the flattened array.\\n    dtype : dtype, optional\\n        Type of the returned array and of the accumulator in which the\\n        elements are summed.  If `dtype` is not specified, it defaults\\n        to the dtype of `a`, unless `a` has an integer dtype with a\\n        precision less than that of the default platform integer.  In\\n        that case, the default platform integer is used.\\n    out : ndarray, optional\\n        Alternative output array in which to place the result. It must\\n        have the same shape and buffer length as the expected output\\n        but the type will be cast if necessary. See `doc.ufuncs`\\n        (Section \"Output arguments\") for more details.\\n\\n    Returns\\n    -------\\n    cumsum_along_axis : ndarray.\\n        A new array holding the result is returned unless `out` is\\n        specified, in which case a reference to `out` is returned. The\\n        result has the same size as `a`, and the same shape as `a` if\\n        `axis` is not None or `a` is a 1-d array.\\n\\n\\n    See Also\\n    --------\\n    sum : Sum array elements.\\n\\n    trapz : Integration of array values using the composite trapezoidal rule.\\n\\n    diff :  Calculate the n-th discrete difference along given axis.\\n\\n    Notes\\n    -----\\n    Arithmetic is modular when using integer types, and no error is\\n    raised on overflow.\\n\\n    Examples\\n    --------\\n    >>> a = np.array([[1,2,3], [4,5,6]])\\n    >>> a\\n    array([[1, 2, 3],\\n           [4, 5, 6]])\\n    >>> np.cumsum(a)\\n    array([ 1,  3,  6, 10, 15, 21])\\n    >>> np.cumsum(a, dtype=float)     # specifies type of output value(s)\\n    array([  1.,   3.,   6.,  10.,  15.,  21.])\\n\\n    >>> np.cumsum(a,axis=0)      # sum over rows for each of the 3 columns\\n    array([[1, 2, 3],\\n           [5, 7, 9]])\\n    >>> np.cumsum(a,axis=1)      # sum over columns for each of the 2 rows\\n    array([[ 1,  3,  6],\\n           [ 4,  9, 15]])\\n\\n    '"
      ]
     },
     "execution_count": 39,
     "metadata": {},
     "output_type": "execute_result"
    }
   ],
   "source": [
    "np.cumsum.__doc__"
   ]
  },
  {
   "cell_type": "code",
   "execution_count": null,
   "metadata": {},
   "outputs": [],
   "source": []
  }
 ],
 "metadata": {
  "kernelspec": {
   "display_name": "Python 2",
   "language": "python",
   "name": "python2"
  },
  "language_info": {
   "codemirror_mode": {
    "name": "ipython",
    "version": 2
   },
   "file_extension": ".py",
   "mimetype": "text/x-python",
   "name": "python",
   "nbconvert_exporter": "python",
   "pygments_lexer": "ipython2",
   "version": "2.7.15"
  }
 },
 "nbformat": 4,
 "nbformat_minor": 2
}
